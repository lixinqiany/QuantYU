{
 "cells": [
  {
   "cell_type": "markdown",
   "id": "cc401ca4",
   "metadata": {},
   "source": [
    "### 开发环境测试"
   ]
  },
  {
   "cell_type": "code",
   "execution_count": 1,
   "id": "cb957eaa",
   "metadata": {},
   "outputs": [],
   "source": [
    "import akshare as ak\n",
    "import backtrader as bt\n",
    "import quantstats as qs"
   ]
  },
  {
   "cell_type": "code",
   "execution_count": 2,
   "id": "2536b198",
   "metadata": {},
   "outputs": [
    {
     "name": "stdout",
     "output_type": "stream",
     "text": [
      "akshare版本： 1.16.74\n",
      "backtrader版本： 1.9.78.123\n"
     ]
    }
   ],
   "source": [
    "print(\"akshare版本：\", ak.__version__)  # 预期输出：1.8.95\n",
    "print(\"backtrader版本：\", bt.__version__)  # 预期输出：1.9.76.123"
   ]
  },
  {
   "cell_type": "code",
   "execution_count": null,
   "id": "cec6e2b4",
   "metadata": {},
   "outputs": [
    {
     "data": {
      "text/html": [
       "<div>\n",
       "<style scoped>\n",
       "    .dataframe tbody tr th:only-of-type {\n",
       "        vertical-align: middle;\n",
       "    }\n",
       "\n",
       "    .dataframe tbody tr th {\n",
       "        vertical-align: top;\n",
       "    }\n",
       "\n",
       "    .dataframe thead th {\n",
       "        text-align: right;\n",
       "    }\n",
       "</style>\n",
       "<table border=\"1\" class=\"dataframe\">\n",
       "  <thead>\n",
       "    <tr style=\"text-align: right;\">\n",
       "      <th></th>\n",
       "      <th>symbol</th>\n",
       "      <th>time</th>\n",
       "      <th>open</th>\n",
       "      <th>high</th>\n",
       "      <th>low</th>\n",
       "      <th>current_price</th>\n",
       "      <th>bid_price</th>\n",
       "      <th>ask_price</th>\n",
       "      <th>buy_vol</th>\n",
       "      <th>sell_vol</th>\n",
       "      <th>hold</th>\n",
       "      <th>volume</th>\n",
       "      <th>avg_price</th>\n",
       "      <th>last_close</th>\n",
       "      <th>last_settle_price</th>\n",
       "    </tr>\n",
       "  </thead>\n",
       "  <tbody>\n",
       "    <tr>\n",
       "      <th>0</th>\n",
       "      <td>螺纹钢2505</td>\n",
       "      <td>230000</td>\n",
       "      <td>3053.0</td>\n",
       "      <td>3055.0</td>\n",
       "      <td>3042.0</td>\n",
       "      <td>3047.0</td>\n",
       "      <td>3047.0</td>\n",
       "      <td>3048.0</td>\n",
       "      <td>48</td>\n",
       "      <td>87</td>\n",
       "      <td>629089.0</td>\n",
       "      <td>47199</td>\n",
       "      <td>0.0</td>\n",
       "      <td>0.0</td>\n",
       "      <td>3044.0</td>\n",
       "    </tr>\n",
       "  </tbody>\n",
       "</table>\n",
       "</div>"
      ],
      "text/plain": [
       "    symbol    time    open    high     low  current_price  bid_price  \\\n",
       "0  螺纹钢2505  230000  3053.0  3055.0  3042.0         3047.0     3047.0   \n",
       "\n",
       "   ask_price  buy_vol  sell_vol      hold  volume  avg_price  last_close  \\\n",
       "0     3048.0       48        87  629089.0   47199        0.0         0.0   \n",
       "\n",
       "   last_settle_price  \n",
       "0             3044.0  "
      ]
     },
     "metadata": {},
     "output_type": "display_data"
    }
   ],
   "source": [
    "# 测试数据接口\n",
    "# 新浪财经-期货页面的实时行情数据\n",
    "df = ak.futures_zh_spot(\n",
    "    symbol=\"RB2505\",  # 期货品种合约代码\n",
    "    market=\"CF\", # CF 商品期货\n",
    "    adjust='0'\n",
    ")\n",
    "\n",
    "display(df)\n",
    "# 230000 = 23点00分00秒"
   ]
  },
  {
   "cell_type": "code",
   "execution_count": 6,
   "id": "fd61a9d5",
   "metadata": {},
   "outputs": [],
   "source": [
    "from bs4 import BeautifulSoup\n",
    "import requests"
   ]
  },
  {
   "cell_type": "code",
   "execution_count": null,
   "id": "f8d248ec",
   "metadata": {},
   "outputs": [],
   "source": []
  }
 ],
 "metadata": {
  "kernelspec": {
   "display_name": "quant",
   "language": "python",
   "name": "quant"
  },
  "language_info": {
   "codemirror_mode": {
    "name": "ipython",
    "version": 3
   },
   "file_extension": ".py",
   "mimetype": "text/x-python",
   "name": "python",
   "nbconvert_exporter": "python",
   "pygments_lexer": "ipython3",
   "version": "3.11.11"
  }
 },
 "nbformat": 4,
 "nbformat_minor": 5
}
